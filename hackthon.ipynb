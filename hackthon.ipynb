{
 "cells": [
  {
   "cell_type": "code",
   "execution_count": 6,
   "id": "422357d1",
   "metadata": {},
   "outputs": [
    {
     "name": "stdout",
     "output_type": "stream",
     "text": [
      "enter a number:4\n",
      "the sqrt of 4.0 is 2.0\n"
     ]
    }
   ],
   "source": [
    "#1\n",
    "n=float(input(\"enter a number:\"))\n",
    "n_sqrt=n**0.5\n",
    "print(\"the sqrt of {} is {}\".format(n,n_sqrt))"
   ]
  },
  {
   "cell_type": "code",
   "execution_count": null,
   "id": "422ac4f7",
   "metadata": {},
   "outputs": [],
   "source": [
    "#2\n",
    "x=int(input('enter value of x:'))\n",
    "for y in range(0,10):\n",
    "    if x==y:\n",
    "         print('they are equal')\n",
    "    else:\n",
    "        print('they are unequal')"
   ]
  },
  {
   "cell_type": "code",
   "execution_count": 17,
   "id": "d9e6ad32",
   "metadata": {},
   "outputs": [
    {
     "name": "stdout",
     "output_type": "stream",
     "text": [
      "0\n"
     ]
    }
   ],
   "source": [
    "#3\n",
    "A,b = 0,0\n",
    "if (A ==b):\n",
    "    c= A+b\n",
    "print(c)\n"
   ]
  },
  {
   "cell_type": "code",
   "execution_count": 51,
   "id": "3d775dff",
   "metadata": {},
   "outputs": [
    {
     "name": "stdout",
     "output_type": "stream",
     "text": [
      "250\n",
      "500\n",
      "750\n",
      "feefeefee\n",
      "feefeefeefee\n",
      "feefeefeefeefee\n",
      "feefeefeefeefeefee\n",
      "feefeefeefeefeefeefee\n"
     ]
    }
   ],
   "source": [
    "#4\n",
    "fee = 250\n",
    "i = 0\n",
    "\n",
    "while fee <= 2000:\n",
    "    if fee <= 750:\n",
    "        print(fee)\n",
    "    else:\n",
    "        print('fee' * i)\n",
    "    \n",
    "    i += 1\n",
    "    fee += 250"
   ]
  },
  {
   "cell_type": "code",
   "execution_count": 19,
   "id": "c616d82c",
   "metadata": {},
   "outputs": [
    {
     "name": "stdout",
     "output_type": "stream",
     "text": [
      "1\n",
      "0\n",
      "3\n",
      "2\n",
      "5\n",
      "4\n",
      "7\n",
      "6\n",
      "9\n",
      "8\n"
     ]
    }
   ],
   "source": [
    "#5\n",
    "step = 10\n",
    "for e in range(0,step):\n",
    "    if e %2 == 0:\n",
    "        print(e+1)\n",
    "    else:\n",
    "        print(e-1)\n"
   ]
  },
  {
   "cell_type": "code",
   "execution_count": null,
   "id": "8ec91f3c",
   "metadata": {},
   "outputs": [],
   "source": []
  },
  {
   "cell_type": "code",
   "execution_count": 26,
   "id": "0dd8d51b",
   "metadata": {},
   "outputs": [
    {
     "name": "stdout",
     "output_type": "stream",
     "text": [
      "c\n",
      "o\n",
      "m\n",
      "e\n",
      " \n",
      "t\n"
     ]
    }
   ],
   "source": [
    "#6\n",
    "Str = \"welcome to symbiosis\"\n",
    "for s in range(3, 9):\n",
    "    print(Str[s])\n",
    "\n"
   ]
  },
  {
   "cell_type": "code",
   "execution_count": null,
   "id": "d221d5f6",
   "metadata": {},
   "outputs": [],
   "source": [
    "#7\n",
    "def title():\n",
    "    for i in range(2,5):\n",
    "        for i in range(1,10):\n",
    "            if i<=5:\n",
    "                print('hello all')"
   ]
  },
  {
   "cell_type": "code",
   "execution_count": 29,
   "id": "94b767b5",
   "metadata": {},
   "outputs": [
    {
     "name": "stdout",
     "output_type": "stream",
     "text": [
      "1\n",
      "2\n",
      "3\n",
      "4\n",
      "5\n",
      "6\n",
      "e\n",
      "f\n"
     ]
    }
   ],
   "source": [
    "#8\n",
    "L = [1,2,3,4,5,6,'e','f']\n",
    "for i in L:\n",
    "    if i==\"a\":\n",
    "        break\n",
    "    else:\n",
    "        print(i)"
   ]
  },
  {
   "cell_type": "code",
   "execution_count": 49,
   "id": "5c742346",
   "metadata": {},
   "outputs": [
    {
     "name": "stdout",
     "output_type": "stream",
     "text": [
      "6\n"
     ]
    }
   ],
   "source": [
    "#9\n",
    "a={6:'anu',7:'sumit',5:'me'}\n",
    "for i in a:\n",
    "    if int(i)%3==0:\n",
    "        print(i)"
   ]
  },
  {
   "cell_type": "code",
   "execution_count": 50,
   "id": "d5f8f88c",
   "metadata": {},
   "outputs": [
    {
     "name": "stdout",
     "output_type": "stream",
     "text": [
      "not m\n",
      "not m\n",
      "not m\n",
      "not m\n",
      "maiden\n",
      "not m\n"
     ]
    }
   ],
   "source": [
    "#10\n",
    "r=(1,6,7,8,0,99)\n",
    "for i in r:\n",
    "    if i==0:\n",
    "        print('maiden')\n",
    "    else:\n",
    "        print('not m')"
   ]
  },
  {
   "cell_type": "code",
   "execution_count": 44,
   "id": "5d9d3342",
   "metadata": {},
   "outputs": [],
   "source": [
    "def count_words():\n",
    "    count_no = dict()\n",
    "    a = input(\"Enter a string: \")\n",
    "    word = str.split()\n",
    "    print(word)\n",
    "    \n",
    "         "
   ]
  },
  {
   "cell_type": "code",
   "execution_count": 66,
   "id": "28bc0a9c",
   "metadata": {},
   "outputs": [
    {
     "name": "stdout",
     "output_type": "stream",
     "text": [
      "The position of 'apple' in the list is: 1\n"
     ]
    }
   ],
   "source": [
    "#1\n",
    "def position(string_list, target_string):\n",
    "    try:\n",
    "        position =string_list.index(target_string) + 1\n",
    "        print(f\"The position of '{target_string}' in the list is: {position}\")\n",
    "    except ValueError:\n",
    "        print(f\"'{target_string}' not found in the list.\")\n",
    "\n",
    "strings = [\"apple\", \"banana\", \"orange\", \"grape\", \"pear\"]\n",
    "\n",
    "\n",
    "position(strings, 'apple')"
   ]
  },
  {
   "cell_type": "code",
   "execution_count": 52,
   "id": "5e1a9e2f",
   "metadata": {},
   "outputs": [
    {
     "name": "stdout",
     "output_type": "stream",
     "text": [
      "{'Sandesh': 1, 'ishwar': 1, 'Pednekar': 1}\n"
     ]
    }
   ],
   "source": [
    "#2\n",
    "def count_words(str):\n",
    "    count = dict()\n",
    "    word = str.split()\n",
    "    for i in word:\n",
    "        \n",
    "        if i in count:\n",
    "\n",
    "            count[i] += 1\n",
    "        else:\n",
    "            \n",
    "            count[i] = 1\n",
    "    return count\n",
    "print(count_words(\"Sandesh ishwar Pednekar\"))\n"
   ]
  },
  {
   "cell_type": "code",
   "execution_count": 53,
   "id": "4cf45f75",
   "metadata": {},
   "outputs": [
    {
     "name": "stdout",
     "output_type": "stream",
     "text": [
      "['All', 'is', 'well']\n"
     ]
    }
   ],
   "source": [
    "#4\n",
    "str1=\"All is well\"\n",
    "l=str1.split();\n",
    "print(l)"
   ]
  },
  {
   "cell_type": "code",
   "execution_count": 65,
   "id": "df953e64",
   "metadata": {},
   "outputs": [
    {
     "name": "stdout",
     "output_type": "stream",
     "text": [
      "nisha\n",
      "vivo\n",
      "black\n",
      "24\n"
     ]
    }
   ],
   "source": [
    "class Mobile:\n",
    "    def __init__(self, mobile_owner, brand, colour, camera_pixel):\n",
    "        self.mobile_owner = mobile_owner\n",
    "        self.brand = brand\n",
    "        self.colour = colour\n",
    "        self.camera_pixel = camera_pixel\n",
    "\n",
    "class Display(Mobile):\n",
    "    pass\n",
    "\n",
    "a = Display(\"nisha\", \"vivo\", \"black\", 24)\n",
    "print(a.mobile_owner)\n",
    "print(a.brand)\n",
    "print(a.colour)\n",
    "print(a.camera_pixel)\n"
   ]
  },
  {
   "cell_type": "code",
   "execution_count": null,
   "id": "204dfa3a",
   "metadata": {},
   "outputs": [],
   "source": [
    "\n"
   ]
  },
  {
   "cell_type": "code",
   "execution_count": null,
   "id": "0658c5fd",
   "metadata": {},
   "outputs": [],
   "source": []
  },
  {
   "cell_type": "code",
   "execution_count": 56,
   "id": "23277a2e",
   "metadata": {},
   "outputs": [
    {
     "name": "stdout",
     "output_type": "stream",
     "text": [
      "[1, 4, 9, 16, 25]\n"
     ]
    }
   ],
   "source": [
    "#5\n",
    "lists = [1,2,3,4,5]\n",
    "l=[(i*i) for i in lists]\n",
    "print(l)"
   ]
  },
  {
   "cell_type": "code",
   "execution_count": null,
   "id": "1149e7f4",
   "metadata": {},
   "outputs": [],
   "source": []
  }
 ],
 "metadata": {
  "kernelspec": {
   "display_name": "Python 3 (ipykernel)",
   "language": "python",
   "name": "python3"
  },
  "language_info": {
   "codemirror_mode": {
    "name": "ipython",
    "version": 3
   },
   "file_extension": ".py",
   "mimetype": "text/x-python",
   "name": "python",
   "nbconvert_exporter": "python",
   "pygments_lexer": "ipython3",
   "version": "3.11.4"
  }
 },
 "nbformat": 4,
 "nbformat_minor": 5
}
